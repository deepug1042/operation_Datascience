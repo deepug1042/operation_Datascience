{
 "cells": [
  {
   "cell_type": "code",
   "execution_count": null,
   "id": "9342ce4a",
   "metadata": {},
   "outputs": [],
   "source": [
    "#boolean datatype"
   ]
  },
  {
   "cell_type": "code",
   "execution_count": 1,
   "id": "d4871945",
   "metadata": {},
   "outputs": [
    {
     "data": {
      "text/plain": [
       "False"
      ]
     },
     "execution_count": 1,
     "metadata": {},
     "output_type": "execute_result"
    }
   ],
   "source": [
    "bool()"
   ]
  },
  {
   "cell_type": "code",
   "execution_count": 2,
   "id": "21054427",
   "metadata": {},
   "outputs": [
    {
     "data": {
      "text/plain": [
       "False"
      ]
     },
     "execution_count": 2,
     "metadata": {},
     "output_type": "execute_result"
    }
   ],
   "source": [
    "my_str = 'Hello world'\n",
    "my_example = 'morning'\n",
    "my_str.isalnum()"
   ]
  },
  {
   "cell_type": "code",
   "execution_count": null,
   "id": "8d8d6acb",
   "metadata": {},
   "outputs": [],
   "source": [
    "#to see all the functions related to boolean press tab"
   ]
  },
  {
   "cell_type": "code",
   "execution_count": 6,
   "id": "7ce39325",
   "metadata": {},
   "outputs": [
    {
     "data": {
      "text/plain": [
       "False"
      ]
     },
     "execution_count": 6,
     "metadata": {},
     "output_type": "execute_result"
    }
   ],
   "source": [
    "my_str.isalpha()"
   ]
  },
  {
   "cell_type": "code",
   "execution_count": 7,
   "id": "6287018a",
   "metadata": {},
   "outputs": [
    {
     "data": {
      "text/plain": [
       "False"
      ]
     },
     "execution_count": 7,
     "metadata": {},
     "output_type": "execute_result"
    }
   ],
   "source": [
    "my_str.istitle()"
   ]
  },
  {
   "cell_type": "code",
   "execution_count": 8,
   "id": "efd73590",
   "metadata": {},
   "outputs": [
    {
     "data": {
      "text/plain": [
       "False"
      ]
     },
     "execution_count": 8,
     "metadata": {},
     "output_type": "execute_result"
    }
   ],
   "source": [
    "my_str.islower()"
   ]
  },
  {
   "cell_type": "code",
   "execution_count": 9,
   "id": "897e6ea9",
   "metadata": {},
   "outputs": [
    {
     "data": {
      "text/plain": [
       "True"
      ]
     },
     "execution_count": 9,
     "metadata": {},
     "output_type": "execute_result"
    }
   ],
   "source": [
    "my_str.isalnum() or my_example.islower()"
   ]
  },
  {
   "cell_type": "markdown",
   "id": "d3ed3699",
   "metadata": {},
   "source": [
    "# list in python"
   ]
  },
  {
   "cell_type": "code",
   "execution_count": 10,
   "id": "b5b890b5",
   "metadata": {},
   "outputs": [
    {
     "data": {
      "text/plain": [
       "list"
      ]
     },
     "execution_count": 10,
     "metadata": {},
     "output_type": "execute_result"
    }
   ],
   "source": [
    "lst = []\n",
    "type(lst)"
   ]
  },
  {
   "cell_type": "code",
   "execution_count": 11,
   "id": "04919f3b",
   "metadata": {},
   "outputs": [
    {
     "data": {
      "text/plain": [
       "list"
      ]
     },
     "execution_count": 11,
     "metadata": {},
     "output_type": "execute_result"
    }
   ],
   "source": [
    "lst = list()\n",
    "type(lst)"
   ]
  },
  {
   "cell_type": "code",
   "execution_count": 12,
   "id": "5981ebc9",
   "metadata": {},
   "outputs": [
    {
     "name": "stdout",
     "output_type": "stream",
     "text": [
      "['hello', 'anandi', 100, 200, 300]\n"
     ]
    }
   ],
   "source": [
    "lst = ['hello','anandi',100,200,300]\n",
    "print(lst)"
   ]
  },
  {
   "cell_type": "code",
   "execution_count": null,
   "id": "cbd32504",
   "metadata": {},
   "outputs": [],
   "source": [
    "#indexing in lists"
   ]
  },
  {
   "cell_type": "code",
   "execution_count": 13,
   "id": "ad2137b6",
   "metadata": {},
   "outputs": [
    {
     "data": {
      "text/plain": [
       "100"
      ]
     },
     "execution_count": 13,
     "metadata": {},
     "output_type": "execute_result"
    }
   ],
   "source": [
    "lst[2]"
   ]
  },
  {
   "cell_type": "code",
   "execution_count": 14,
   "id": "2e424a87",
   "metadata": {},
   "outputs": [
    {
     "data": {
      "text/plain": [
       "['hello', 'anandi', 100, 200, 300]"
      ]
     },
     "execution_count": 14,
     "metadata": {},
     "output_type": "execute_result"
    }
   ],
   "source": [
    "lst[:]"
   ]
  },
  {
   "cell_type": "code",
   "execution_count": 15,
   "id": "a89ae619",
   "metadata": {},
   "outputs": [
    {
     "data": {
      "text/plain": [
       "[100, 200]"
      ]
     },
     "execution_count": 15,
     "metadata": {},
     "output_type": "execute_result"
    }
   ],
   "source": [
    "lst[2:4]"
   ]
  },
  {
   "cell_type": "markdown",
   "id": "9477a0d9",
   "metadata": {},
   "source": [
    "# Appending in the list"
   ]
  },
  {
   "cell_type": "code",
   "execution_count": 16,
   "id": "5cc64d71",
   "metadata": {},
   "outputs": [],
   "source": [
    "lst.append('Deepu')"
   ]
  },
  {
   "cell_type": "code",
   "execution_count": 32,
   "id": "17518787",
   "metadata": {},
   "outputs": [
    {
     "data": {
      "text/plain": [
       "[1, 1, 3, 5, 6, 0, 0, 1, 1, 3, 5, 6, 0, 0]"
      ]
     },
     "execution_count": 32,
     "metadata": {},
     "output_type": "execute_result"
    }
   ],
   "source": [
    "lst *2 # it will print the list 2 times n append"
   ]
  },
  {
   "cell_type": "code",
   "execution_count": 18,
   "id": "b7b20cc3",
   "metadata": {},
   "outputs": [],
   "source": [
    "lst.append(['apple','mango','strawberry']) #creates a nested list when we add more than one item in an list"
   ]
  },
  {
   "cell_type": "code",
   "execution_count": 19,
   "id": "16586381",
   "metadata": {},
   "outputs": [
    {
     "data": {
      "text/plain": [
       "['hello', 'anandi', 100, 200, 300, 'Deepu', ['apple', 'mango', 'strawberry']]"
      ]
     },
     "execution_count": 19,
     "metadata": {},
     "output_type": "execute_result"
    }
   ],
   "source": [
    "lst"
   ]
  },
  {
   "cell_type": "markdown",
   "id": "61c8d62a",
   "metadata": {},
   "source": [
    "# Inserting item at a specific index"
   ]
  },
  {
   "cell_type": "code",
   "execution_count": 20,
   "id": "5547a8bc",
   "metadata": {},
   "outputs": [
    {
     "data": {
      "text/plain": [
       "['hello',\n",
       " 'blueberry',\n",
       " 'anandi',\n",
       " 100,\n",
       " 200,\n",
       " 300,\n",
       " 'Deepu',\n",
       " ['apple', 'mango', 'strawberry']]"
      ]
     },
     "execution_count": 20,
     "metadata": {},
     "output_type": "execute_result"
    }
   ],
   "source": [
    "lst.insert(1,'blueberry')\n",
    "lst"
   ]
  },
  {
   "cell_type": "code",
   "execution_count": 21,
   "id": "4425abff",
   "metadata": {},
   "outputs": [
    {
     "data": {
      "text/plain": [
       "['hello',\n",
       " 'blueberry',\n",
       " 'anandi',\n",
       " 100,\n",
       " 200,\n",
       " 300,\n",
       " 'Deepu',\n",
       " ['apple', 'mango', 'strawberry'],\n",
       " 10,\n",
       " 20]"
      ]
     },
     "execution_count": 21,
     "metadata": {},
     "output_type": "execute_result"
    }
   ],
   "source": [
    "#here we use extend function to avaoid nested list\n",
    "lst.extend([10,20])\n",
    "lst"
   ]
  },
  {
   "cell_type": "markdown",
   "id": "e3c12f3d",
   "metadata": {},
   "source": [
    "# various operations on lists\n"
   ]
  },
  {
   "cell_type": "code",
   "execution_count": 22,
   "id": "67fb27bf",
   "metadata": {},
   "outputs": [],
   "source": [
    "lst = [10,20,30,100]"
   ]
  },
  {
   "cell_type": "code",
   "execution_count": 24,
   "id": "4af197e5",
   "metadata": {},
   "outputs": [
    {
     "data": {
      "text/plain": [
       "160"
      ]
     },
     "execution_count": 24,
     "metadata": {},
     "output_type": "execute_result"
    }
   ],
   "source": [
    "sum(lst)  #sum function on list"
   ]
  },
  {
   "cell_type": "code",
   "execution_count": 25,
   "id": "4ed40692",
   "metadata": {},
   "outputs": [
    {
     "data": {
      "text/plain": [
       "100"
      ]
     },
     "execution_count": 25,
     "metadata": {},
     "output_type": "execute_result"
    }
   ],
   "source": [
    "#pop function on lists\n",
    "\n",
    "lst.pop()  #by default it will pop the last element from the list"
   ]
  },
  {
   "cell_type": "code",
   "execution_count": 26,
   "id": "9a2cbf3d",
   "metadata": {},
   "outputs": [
    {
     "data": {
      "text/plain": [
       "[10, 20, 30]"
      ]
     },
     "execution_count": 26,
     "metadata": {},
     "output_type": "execute_result"
    }
   ],
   "source": [
    "lst"
   ]
  },
  {
   "cell_type": "code",
   "execution_count": 27,
   "id": "72f878d4",
   "metadata": {},
   "outputs": [
    {
     "data": {
      "text/plain": [
       "[20, 30]"
      ]
     },
     "execution_count": 27,
     "metadata": {},
     "output_type": "execute_result"
    }
   ],
   "source": [
    "#we can also give the index of the item in an list to be poped out\n",
    "lst.pop(0)\n",
    "lst       #in the output 10 is poped out"
   ]
  },
  {
   "cell_type": "markdown",
   "id": "93d681de",
   "metadata": {},
   "source": [
    "Count() function --> calculates the total number of given occurance of a list"
   ]
  },
  {
   "cell_type": "code",
   "execution_count": 28,
   "id": "42e84ad8",
   "metadata": {},
   "outputs": [],
   "source": [
    "lst = [1,1,3,5,6,0,0]\n"
   ]
  },
  {
   "cell_type": "code",
   "execution_count": 29,
   "id": "766ed848",
   "metadata": {},
   "outputs": [
    {
     "data": {
      "text/plain": [
       "2"
      ]
     },
     "execution_count": 29,
     "metadata": {},
     "output_type": "execute_result"
    }
   ],
   "source": [
    "lst.count(1) #item 1 is repeated 2 times so output is 2"
   ]
  },
  {
   "cell_type": "markdown",
   "id": "a991f0ee",
   "metadata": {},
   "source": [
    "#min and max element in the list"
   ]
  },
  {
   "cell_type": "markdown",
   "id": "2ba33cb0",
   "metadata": {},
   "source": []
  },
  {
   "cell_type": "code",
   "execution_count": 30,
   "id": "bfa234af",
   "metadata": {},
   "outputs": [
    {
     "data": {
      "text/plain": [
       "0"
      ]
     },
     "execution_count": 30,
     "metadata": {},
     "output_type": "execute_result"
    }
   ],
   "source": [
    "min(lst)"
   ]
  },
  {
   "cell_type": "markdown",
   "id": "285cf30c",
   "metadata": {},
   "source": []
  },
  {
   "cell_type": "code",
   "execution_count": 31,
   "id": "c2a38c32",
   "metadata": {},
   "outputs": [
    {
     "data": {
      "text/plain": [
       "6"
      ]
     },
     "execution_count": 31,
     "metadata": {},
     "output_type": "execute_result"
    }
   ],
   "source": [
    "max(lst)"
   ]
  },
  {
   "cell_type": "code",
   "execution_count": null,
   "id": "a42317d8",
   "metadata": {},
   "outputs": [],
   "source": []
  }
 ],
 "metadata": {
  "kernelspec": {
   "display_name": "Python 3 (ipykernel)",
   "language": "python",
   "name": "python3"
  },
  "language_info": {
   "codemirror_mode": {
    "name": "ipython",
    "version": 3
   },
   "file_extension": ".py",
   "mimetype": "text/x-python",
   "name": "python",
   "nbconvert_exporter": "python",
   "pygments_lexer": "ipython3",
   "version": "3.11.5"
  }
 },
 "nbformat": 4,
 "nbformat_minor": 5
}
