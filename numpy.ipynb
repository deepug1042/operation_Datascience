{
 "cells": [
  {
   "cell_type": "markdown",
   "id": "9113801b",
   "metadata": {},
   "source": [
    "# Numpy\n",
    "    It is a general purpose array processing package. And basically used to create multi dimentional array object which is high \n",
    "    dimentional. and provides tools for working with these arrays.\n",
    "    --> numpy contains bindings of c and c++ to perform the array opeartions faster"
   ]
  },
  {
   "cell_type": "markdown",
   "id": "87d076db",
   "metadata": {},
   "source": [
    "# Array\n",
    "    Array is a data structure which contains elements of same datatype. The main difference b/w lists and arrays is that a list contains elements of differnet datatype and array contains similar datatype"
   ]
  },
  {
   "cell_type": "code",
   "execution_count": 2,
   "id": "8cc2a3ef",
   "metadata": {},
   "outputs": [],
   "source": [
    "#importing numpy for operations in array\n",
    "import numpy as np"
   ]
  },
  {
   "cell_type": "code",
   "execution_count": 3,
   "id": "38e869cb",
   "metadata": {},
   "outputs": [],
   "source": [
    "#defining an 1D array\n",
    "#1st we create a list and than convert it into array using numpy\n",
    "lst = [1,2,3,4,5,6]\n",
    "arr = np.array(lst)"
   ]
  },
  {
   "cell_type": "code",
   "execution_count": 4,
   "id": "c7c36017",
   "metadata": {},
   "outputs": [
    {
     "data": {
      "text/plain": [
       "array([1, 2, 3, 4, 5, 6])"
      ]
     },
     "execution_count": 4,
     "metadata": {},
     "output_type": "execute_result"
    }
   ],
   "source": [
    "arr #here the list is converted to array"
   ]
  },
  {
   "cell_type": "code",
   "execution_count": 5,
   "id": "c369e778",
   "metadata": {},
   "outputs": [
    {
     "data": {
      "text/plain": [
       "numpy.ndarray"
      ]
     },
     "execution_count": 5,
     "metadata": {},
     "output_type": "execute_result"
    }
   ],
   "source": [
    "type(arr)   #datatype of the arr is array now"
   ]
  },
  {
   "cell_type": "code",
   "execution_count": 7,
   "id": "f0dd9eeb",
   "metadata": {},
   "outputs": [
    {
     "data": {
      "text/plain": [
       "(6,)"
      ]
     },
     "execution_count": 7,
     "metadata": {},
     "output_type": "execute_result"
    }
   ],
   "source": [
    "#to know the number of rows and columns in an array we use Shape() function since it is an 1D array we get either column or row\n",
    "np.shape(arr)    #we see that there are 6 columns"
   ]
  },
  {
   "cell_type": "markdown",
   "id": "cbb26677",
   "metadata": {},
   "source": [
    "# Indexing in 1D array"
   ]
  },
  {
   "cell_type": "code",
   "execution_count": 8,
   "id": "041c1c35",
   "metadata": {},
   "outputs": [
    {
     "data": {
      "text/plain": [
       "4"
      ]
     },
     "execution_count": 8,
     "metadata": {},
     "output_type": "execute_result"
    }
   ],
   "source": [
    "arr[3]"
   ]
  },
  {
   "cell_type": "code",
   "execution_count": 9,
   "id": "7688534a",
   "metadata": {},
   "outputs": [
    {
     "data": {
      "text/plain": [
       "1"
      ]
     },
     "execution_count": 9,
     "metadata": {},
     "output_type": "execute_result"
    }
   ],
   "source": [
    "arr[0]"
   ]
  },
  {
   "cell_type": "markdown",
   "id": "d0c220db",
   "metadata": {},
   "source": [
    "# 2D array"
   ]
  },
  {
   "cell_type": "code",
   "execution_count": 14,
   "id": "fd26d7f9",
   "metadata": {},
   "outputs": [],
   "source": [
    "arr1 = [1,2,3,4,5]\n",
    "arr2 = [6,7,8,9,0]\n",
    "arr3 = [3,4,1,6,8]\n",
    "my_list = np.array([arr1,arr2,arr3])   #here we have to give the defined lists in the list format ie using [] brackets"
   ]
  },
  {
   "cell_type": "code",
   "execution_count": 17,
   "id": "0f231a00",
   "metadata": {},
   "outputs": [
    {
     "name": "stdout",
     "output_type": "stream",
     "text": [
      "[[1 2 3 4 5]\n",
      " [6 7 8 9 0]\n",
      " [3 4 1 6 8]]\n"
     ]
    },
    {
     "data": {
      "text/plain": [
       "numpy.ndarray"
      ]
     },
     "execution_count": 17,
     "metadata": {},
     "output_type": "execute_result"
    }
   ],
   "source": [
    "print(my_list)\n",
    "type(my_list)"
   ]
  },
  {
   "cell_type": "code",
   "execution_count": 18,
   "id": "bf061056",
   "metadata": {},
   "outputs": [
    {
     "data": {
      "text/plain": [
       "(3, 5)"
      ]
     },
     "execution_count": 18,
     "metadata": {},
     "output_type": "execute_result"
    }
   ],
   "source": [
    "np.shape(my_list)   #here we get the numbers ie row(3) x column(5)"
   ]
  },
  {
   "cell_type": "code",
   "execution_count": 19,
   "id": "4c5c1b11",
   "metadata": {},
   "outputs": [
    {
     "data": {
      "text/plain": [
       "array([[1, 2, 3],\n",
       "       [4, 5, 6],\n",
       "       [7, 8, 9],\n",
       "       [0, 3, 4],\n",
       "       [1, 6, 8]])"
      ]
     },
     "execution_count": 19,
     "metadata": {},
     "output_type": "execute_result"
    }
   ],
   "source": [
    "#we can also reshape the 2D array bt the total elemnts should be 15 only\n",
    "my_list.reshape(5,3)\n",
    "#below after reshaping we get 5 rows and 3 columns"
   ]
  },
  {
   "cell_type": "code",
   "execution_count": 20,
   "id": "f15543a4",
   "metadata": {},
   "outputs": [],
   "source": [
    "a = [10,2,3]\n",
    "b = [3,6,8]\n",
    "c = [3,6,1]\n",
    "alpha = np.array([a,b])"
   ]
  },
  {
   "cell_type": "code",
   "execution_count": 21,
   "id": "73eaaa43",
   "metadata": {},
   "outputs": [
    {
     "data": {
      "text/plain": [
       "array([[10,  2,  3],\n",
       "       [ 3,  6,  8]])"
      ]
     },
     "execution_count": 21,
     "metadata": {},
     "output_type": "execute_result"
    }
   ],
   "source": [
    "alpha"
   ]
  },
  {
   "cell_type": "code",
   "execution_count": 26,
   "id": "37f19961",
   "metadata": {},
   "outputs": [
    {
     "data": {
      "text/plain": [
       "(2, 3)"
      ]
     },
     "execution_count": 26,
     "metadata": {},
     "output_type": "execute_result"
    }
   ],
   "source": [
    "np.shape(alpha)"
   ]
  },
  {
   "cell_type": "code",
   "execution_count": 27,
   "id": "5319ed7d",
   "metadata": {},
   "outputs": [
    {
     "data": {
      "text/plain": [
       "array([[10,  2],\n",
       "       [ 3,  3],\n",
       "       [ 6,  8]])"
      ]
     },
     "execution_count": 27,
     "metadata": {},
     "output_type": "execute_result"
    }
   ],
   "source": [
    "alpha.reshape(3,2)"
   ]
  },
  {
   "cell_type": "markdown",
   "id": "742589b1",
   "metadata": {},
   "source": [
    "# Indexing in2D array"
   ]
  },
  {
   "cell_type": "code",
   "execution_count": null,
   "id": "4584d89f",
   "metadata": {},
   "outputs": [],
   "source": [
    "#in 2D array we retrieve the elements by using : and ,"
   ]
  },
  {
   "cell_type": "code",
   "execution_count": 32,
   "id": "a7ec5576",
   "metadata": {},
   "outputs": [
    {
     "data": {
      "text/plain": [
       "array([[1, 2, 3, 4, 5],\n",
       "       [6, 7, 8, 9, 0],\n",
       "       [3, 4, 1, 6, 8]])"
      ]
     },
     "execution_count": 32,
     "metadata": {},
     "output_type": "execute_result"
    }
   ],
   "source": [
    "my_list"
   ]
  },
  {
   "cell_type": "code",
   "execution_count": 37,
   "id": "3b7b6212",
   "metadata": {},
   "outputs": [
    {
     "data": {
      "text/plain": [
       "array([[1, 2],\n",
       "       [6, 7]])"
      ]
     },
     "execution_count": 37,
     "metadata": {},
     "output_type": "execute_result"
    }
   ],
   "source": [
    "my_list[0:2,0:2]"
   ]
  },
  {
   "cell_type": "code",
   "execution_count": 38,
   "id": "77ed485c",
   "metadata": {},
   "outputs": [
    {
     "data": {
      "text/plain": [
       "array([[8, 9],\n",
       "       [1, 6]])"
      ]
     },
     "execution_count": 38,
     "metadata": {},
     "output_type": "execute_result"
    }
   ],
   "source": [
    "my_list[1:3,2:4]"
   ]
  },
  {
   "cell_type": "markdown",
   "id": "27a4fd49",
   "metadata": {},
   "source": [
    "# Inbuilt functions in arrays"
   ]
  },
  {
   "cell_type": "code",
   "execution_count": 41,
   "id": "0c1b5ffa",
   "metadata": {},
   "outputs": [
    {
     "name": "stdout",
     "output_type": "stream",
     "text": [
      "[0 1 2 3 4 5 6 7 8 9]\n",
      "[0 2 4 6 8]\n"
     ]
    }
   ],
   "source": [
    "#arrange()---> it is a function used to display the values from a given point\n",
    "r = np.arange(0,10)\n",
    "s = np.arange(0,10,step = 2)  #step parameter is used to give the differnce between the specified points\n",
    "print(r)\n",
    "print(s)"
   ]
  },
  {
   "cell_type": "code",
   "execution_count": 45,
   "id": "65cd8da9",
   "metadata": {},
   "outputs": [
    {
     "data": {
      "text/plain": [
       "array([1.        , 1.02040816, 1.04081633, 1.06122449, 1.08163265,\n",
       "       1.10204082, 1.12244898, 1.14285714, 1.16326531, 1.18367347,\n",
       "       1.20408163, 1.2244898 , 1.24489796, 1.26530612, 1.28571429,\n",
       "       1.30612245, 1.32653061, 1.34693878, 1.36734694, 1.3877551 ,\n",
       "       1.40816327, 1.42857143, 1.44897959, 1.46938776, 1.48979592,\n",
       "       1.51020408, 1.53061224, 1.55102041, 1.57142857, 1.59183673,\n",
       "       1.6122449 , 1.63265306, 1.65306122, 1.67346939, 1.69387755,\n",
       "       1.71428571, 1.73469388, 1.75510204, 1.7755102 , 1.79591837,\n",
       "       1.81632653, 1.83673469, 1.85714286, 1.87755102, 1.89795918,\n",
       "       1.91836735, 1.93877551, 1.95918367, 1.97959184, 2.        ])"
      ]
     },
     "execution_count": 45,
     "metadata": {},
     "output_type": "execute_result"
    }
   ],
   "source": [
    "#linspace()--->it is used to give the float values till the given number\n",
    "np.linspace(1,2,num=50)"
   ]
  },
  {
   "cell_type": "markdown",
   "id": "f0f6b150",
   "metadata": {},
   "source": [
    "# Copy() and brodcast() function\n",
    "                                                                                                                                    copy()--> this function is used to make an other memory space for the list and doesnt update the value newly given to the                  list.\n",
    "                                                                                                                                    broadcast()--->"
   ]
  },
  {
   "cell_type": "code",
   "execution_count": 46,
   "id": "9d632ae0",
   "metadata": {},
   "outputs": [
    {
     "data": {
      "text/plain": [
       "array([1, 2, 3, 4, 5, 6])"
      ]
     },
     "execution_count": 46,
     "metadata": {},
     "output_type": "execute_result"
    }
   ],
   "source": [
    "arr"
   ]
  },
  {
   "cell_type": "code",
   "execution_count": 47,
   "id": "aa5c5b49",
   "metadata": {},
   "outputs": [],
   "source": [
    "#we replace the values of the array arr with new value\n",
    "arr[2:] = 400"
   ]
  },
  {
   "cell_type": "code",
   "execution_count": 48,
   "id": "d7ac047f",
   "metadata": {},
   "outputs": [
    {
     "data": {
      "text/plain": [
       "array([  1,   2, 400, 400, 400, 400])"
      ]
     },
     "execution_count": 48,
     "metadata": {},
     "output_type": "execute_result"
    }
   ],
   "source": [
    "arr   # the elemnts of  indexes from 2 to end have replaced with 400"
   ]
  },
  {
   "cell_type": "code",
   "execution_count": 51,
   "id": "8c518cce",
   "metadata": {},
   "outputs": [],
   "source": [
    "\n",
    "#now suppose we craete a new variable and assign arr to it and then change the new vaeriable elemnts still it will get updated in old variable this is because of the variables using the same memory space\n",
    "arr1 = arr\n"
   ]
  },
  {
   "cell_type": "code",
   "execution_count": 55,
   "id": "6ea9e36c",
   "metadata": {},
   "outputs": [
    {
     "name": "stdout",
     "output_type": "stream",
     "text": [
      "[   1    2 1000 1000 1000 1000]\n",
      "[   1    2 1000 1000 1000 1000]\n"
     ]
    }
   ],
   "source": [
    "arr1[2:] = 1000\n",
    "print(arr)\n",
    "print(arr1) #here both the values are replaced with the new value so we use copy function"
   ]
  },
  {
   "cell_type": "markdown",
   "id": "86b0a876",
   "metadata": {},
   "source": [
    "# 1. Reference type\n",
    "# 2. Value type\n",
    "note: An array is an reference type"
   ]
  },
  {
   "cell_type": "code",
   "execution_count": 57,
   "id": "75b70079",
   "metadata": {},
   "outputs": [],
   "source": [
    "#Copy()---> used to maintain the sepearte memory space\n",
    "arr1 = arr.copy()"
   ]
  },
  {
   "cell_type": "code",
   "execution_count": 58,
   "id": "3f91dbcd",
   "metadata": {},
   "outputs": [],
   "source": [
    "arr1[2:] = 100"
   ]
  },
  {
   "cell_type": "code",
   "execution_count": 59,
   "id": "fdcb7fbb",
   "metadata": {},
   "outputs": [
    {
     "name": "stdout",
     "output_type": "stream",
     "text": [
      "[   1    2 1000 1000 1000 1000]\n",
      "[  1   2 100 100 100 100]\n"
     ]
    }
   ],
   "source": [
    "print(arr)\n",
    "print(arr1)  #now the value is only uodated in the newly created list"
   ]
  },
  {
   "cell_type": "markdown",
   "id": "f2bd1c09",
   "metadata": {},
   "source": [
    "# Some conditions that are useful in Exploratory data Analysis"
   ]
  },
  {
   "cell_type": "code",
   "execution_count": 60,
   "id": "498e78d0",
   "metadata": {},
   "outputs": [
    {
     "data": {
      "text/plain": [
       "array([ True, False, False, False, False, False])"
      ]
     },
     "execution_count": 60,
     "metadata": {},
     "output_type": "execute_result"
    }
   ],
   "source": [
    "arr<2\n",
    "#It checks for each and evry element in the list and says whether it is true or false"
   ]
  },
  {
   "cell_type": "code",
   "execution_count": 63,
   "id": "5086f795",
   "metadata": {},
   "outputs": [
    {
     "name": "stdout",
     "output_type": "stream",
     "text": [
      "[   2    4 2000 2000 2000 2000]\n",
      "[  0.5   1.  500.  500.  500.  500. ]\n"
     ]
    }
   ],
   "source": [
    "print(arr*2)  #we can even use the mathematical opeartions\n",
    "print(arr/2)"
   ]
  },
  {
   "cell_type": "code",
   "execution_count": 66,
   "id": "5ef1620e",
   "metadata": {},
   "outputs": [
    {
     "data": {
      "text/plain": [
       "array([1, 2])"
      ]
     },
     "execution_count": 66,
     "metadata": {},
     "output_type": "execute_result"
    }
   ],
   "source": [
    "#to retrieve the elemnts whic are less than 2 we use\n",
    "arr[arr<500]"
   ]
  },
  {
   "cell_type": "code",
   "execution_count": 68,
   "id": "d5ea34e7",
   "metadata": {},
   "outputs": [
    {
     "data": {
      "text/plain": [
       "array([[1, 2, 3],\n",
       "       [4, 5, 6],\n",
       "       [7, 8, 9]])"
      ]
     },
     "execution_count": 68,
     "metadata": {},
     "output_type": "execute_result"
    }
   ],
   "source": [
    "# create arrays and reshape\n",
    "np.arange(1,10).reshape(3,3)"
   ]
  },
  {
   "cell_type": "code",
   "execution_count": 69,
   "id": "aec2346a",
   "metadata": {},
   "outputs": [
    {
     "data": {
      "text/plain": [
       "array([     1,      4, 100000, 100000, 100000, 100000])"
      ]
     },
     "execution_count": 69,
     "metadata": {},
     "output_type": "execute_result"
    }
   ],
   "source": [
    " arr*arr1 #simply multiply the elements in the array"
   ]
  },
  {
   "cell_type": "code",
   "execution_count": 70,
   "id": "414545e2",
   "metadata": {},
   "outputs": [
    {
     "data": {
      "text/plain": [
       "array([1, 1, 1, 1, 1])"
      ]
     },
     "execution_count": 70,
     "metadata": {},
     "output_type": "execute_result"
    }
   ],
   "source": [
    "#ones() --->used to add 1 to the defined array\n",
    "np.ones(5,dtype = int)   #1D array"
   ]
  },
  {
   "cell_type": "code",
   "execution_count": 72,
   "id": "787f50c6",
   "metadata": {},
   "outputs": [
    {
     "data": {
      "text/plain": [
       "array([[1, 1, 1],\n",
       "       [1, 1, 1]])"
      ]
     },
     "execution_count": 72,
     "metadata": {},
     "output_type": "execute_result"
    }
   ],
   "source": [
    "#2D array\n",
    "np.ones((2,3),dtype=int)"
   ]
  },
  {
   "cell_type": "code",
   "execution_count": 73,
   "id": "76f84823",
   "metadata": {},
   "outputs": [
    {
     "data": {
      "text/plain": [
       "array([[0.53624617, 0.91589447, 0.39234307, 0.78911333],\n",
       "       [0.5228225 , 0.82648745, 0.30463584, 0.30239771],\n",
       "       [0.25463794, 0.04595488, 0.76380304, 0.54976047]])"
      ]
     },
     "execution_count": 73,
     "metadata": {},
     "output_type": "execute_result"
    }
   ],
   "source": [
    "#Random Distribution\n",
    "np.random.rand(3,4) #rand(3,4) --> it is the given shape"
   ]
  },
  {
   "cell_type": "code",
   "execution_count": 78,
   "id": "3e9748ea",
   "metadata": {},
   "outputs": [
    {
     "data": {
      "text/plain": [
       "array([[ 2.28252745, -0.00373078,  0.27388927],\n",
       "       [-0.34529947, -0.37857945,  0.25722537],\n",
       "       [-2.18836527,  2.07448317,  1.16351412]])"
      ]
     },
     "execution_count": 78,
     "metadata": {},
     "output_type": "execute_result"
    }
   ],
   "source": [
    "#standard normal distribution randn()--->\n",
    "B = np.random.randn(3,3)\n",
    "B"
   ]
  },
  {
   "cell_type": "code",
   "execution_count": 82,
   "id": "7d2c6474",
   "metadata": {},
   "outputs": [
    {
     "data": {
      "text/plain": [
       "(3, 3)"
      ]
     },
     "execution_count": 82,
     "metadata": {},
     "output_type": "execute_result"
    }
   ],
   "source": [
    "np.shape(B)"
   ]
  },
  {
   "cell_type": "code",
   "execution_count": 76,
   "id": "ec53341f",
   "metadata": {},
   "outputs": [],
   "source": [
    "#dist plot for the standard normal distribution\n",
    "import seaborn as sns\n",
    "import pandas as pd"
   ]
  },
  {
   "cell_type": "code",
   "execution_count": 85,
   "id": "0b7de73d",
   "metadata": {},
   "outputs": [
    {
     "name": "stderr",
     "output_type": "stream",
     "text": [
      "C:\\Users\\Dell\\AppData\\Local\\Temp\\ipykernel_14696\\2009924161.py:1: UserWarning: \n",
      "\n",
      "`distplot` is a deprecated function and will be removed in seaborn v0.14.0.\n",
      "\n",
      "Please adapt your code to use either `displot` (a figure-level function with\n",
      "similar flexibility) or `histplot` (an axes-level function for histograms).\n",
      "\n",
      "For a guide to updating your code to use the new functions, please see\n",
      "https://gist.github.com/mwaskom/de44147ed2974457ad6372750bbe5751\n",
      "\n",
      "  sns.distplot(pd.DataFrame(B)).reshape(1,9)\n",
      "C:\\Anaconda\\Lib\\site-packages\\seaborn\\_oldcore.py:1498: FutureWarning: is_categorical_dtype is deprecated and will be removed in a future version. Use isinstance(dtype, CategoricalDtype) instead\n",
      "  if pd.api.types.is_categorical_dtype(vector):\n",
      "C:\\Anaconda\\Lib\\site-packages\\seaborn\\_oldcore.py:1119: FutureWarning: use_inf_as_na option is deprecated and will be removed in a future version. Convert inf values to NaN before operating instead.\n",
      "  with pd.option_context('mode.use_inf_as_na', True):\n"
     ]
    },
    {
     "ename": "AttributeError",
     "evalue": "'Axes' object has no attribute 'reshape'",
     "output_type": "error",
     "traceback": [
      "\u001b[1;31m---------------------------------------------------------------------------\u001b[0m",
      "\u001b[1;31mAttributeError\u001b[0m                            Traceback (most recent call last)",
      "Cell \u001b[1;32mIn[85], line 1\u001b[0m\n\u001b[1;32m----> 1\u001b[0m sns\u001b[38;5;241m.\u001b[39mdistplot(pd\u001b[38;5;241m.\u001b[39mDataFrame(B))\u001b[38;5;241m.\u001b[39mreshape(\u001b[38;5;241m1\u001b[39m,\u001b[38;5;241m9\u001b[39m)\n",
      "\u001b[1;31mAttributeError\u001b[0m: 'Axes' object has no attribute 'reshape'"
     ]
    },
    {
     "data": {
      "image/png": "[encoded data removed]",
      "text/plain": [
       "<Figure size 640x480 with 1 Axes>"
      ]
     },
     "metadata": {},
     "output_type": "display_data"
    }
   ],
   "source": [
    "sns.distplot(pd.DataFrame(B)).reshape(1,9)"
   ]
  },
  {
   "cell_type": "code",
   "execution_count": 90,
   "id": "1cdb2576",
   "metadata": {},
   "outputs": [
    {
     "data": {
      "text/plain": [
       "array([[4, 9],\n",
       "       [9, 9],\n",
       "       [2, 6],\n",
       "       [2, 5]])"
      ]
     },
     "execution_count": 90,
     "metadata": {},
     "output_type": "execute_result"
    }
   ],
   "source": [
    "#randint() ---> used to pront the values to the specified value\n",
    "np.random.randint(1,10,8).reshape(4,2)"
   ]
  },
  {
   "cell_type": "code",
   "execution_count": 93,
   "id": "3a854a53",
   "metadata": {},
   "outputs": [
    {
     "data": {
      "text/plain": [
       "array([[0.84422501, 0.90058047, 0.14406929]])"
      ]
     },
     "execution_count": 93,
     "metadata": {},
     "output_type": "execute_result"
    }
   ],
   "source": [
    "#random_sample() --> gives the values between 0 and 1 but not 1\n",
    "np.random.random_sample((1,3))"
   ]
  }
 ],
 "metadata": {
  "kernelspec": {
   "display_name": "Python 3 (ipykernel)",
   "language": "python",
   "name": "python3"
  },
  "language_info": {
   "codemirror_mode": {
    "name": "ipython",
    "version": 3
   },
   "file_extension": ".py",
   "mimetype": "text/x-python",
   "name": "python",
   "nbconvert_exporter": "python",
   "pygments_lexer": "ipython3",
   "version": "3.11.5"
  }
 },
 "nbformat": 4,
 "nbformat_minor": 5
}
