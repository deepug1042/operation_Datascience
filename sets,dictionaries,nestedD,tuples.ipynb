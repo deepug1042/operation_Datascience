{
 "cells": [
  {
   "cell_type": "markdown",
   "id": "51dc82e8",
   "metadata": {},
   "source": [
    "# SETS\n",
    "    A set is a unordered collection datatype that is iterable,mutable and has no duplicate elements. Python's class represents the mathematical notion of a set. This is based on the datastructure known as hash table "
   ]
  },
  {
   "cell_type": "markdown",
   "id": "da4b2046",
   "metadata": {},
   "source": [
    "# Indexing cannot be done in sets"
   ]
  },
  {
   "cell_type": "code",
   "execution_count": 1,
   "id": "0e715c29",
   "metadata": {},
   "outputs": [],
   "source": [
    "#we can define the set in two ways\n",
    "set_var = set()     #to define an empty set"
   ]
  },
  {
   "cell_type": "code",
   "execution_count": 17,
   "id": "7913948f",
   "metadata": {},
   "outputs": [],
   "source": [
    "set_varr = {} #another way to define a set"
   ]
  },
  {
   "cell_type": "code",
   "execution_count": 3,
   "id": "2a2dcb64",
   "metadata": {},
   "outputs": [
    {
     "data": {
      "text/plain": [
       "set"
      ]
     },
     "execution_count": 3,
     "metadata": {},
     "output_type": "execute_result"
    }
   ],
   "source": [
    "type(set_var)\n"
   ]
  },
  {
   "cell_type": "code",
   "execution_count": 4,
   "id": "ad5f69a3",
   "metadata": {},
   "outputs": [],
   "source": [
    "set_var = {1,2,3,4,4} #to define a set with elements"
   ]
  },
  {
   "cell_type": "code",
   "execution_count": 5,
   "id": "b1e862d4",
   "metadata": {},
   "outputs": [
    {
     "data": {
      "text/plain": [
       "{1, 2, 3, 4}"
      ]
     },
     "execution_count": 5,
     "metadata": {},
     "output_type": "execute_result"
    }
   ],
   "source": [
    "set_var   #even though the number '4' is repested in the above defined set while printing we are displayed only once this is an advantage"
   ]
  },
  {
   "cell_type": "code",
   "execution_count": 12,
   "id": "2e9566ac",
   "metadata": {},
   "outputs": [],
   "source": [
    "#in built functions in sets\n",
    "set_var1 = {'english','kannada','hindi','tamil'}\n",
    "set_var2 = {'tamil','english'}"
   ]
  },
  {
   "cell_type": "code",
   "execution_count": 8,
   "id": "134e85a1",
   "metadata": {},
   "outputs": [
    {
     "name": "stdout",
     "output_type": "stream",
     "text": [
      "{'hindi', 'kannada'}\n"
     ]
    }
   ],
   "source": [
    "#difference function in sets\n",
    "set_var1.difference_update(set_var2)  #differnce_update changes the updated value in an set\n",
    "print(set_var1)"
   ]
  },
  {
   "cell_type": "code",
   "execution_count": 13,
   "id": "1ffb0c65",
   "metadata": {},
   "outputs": [
    {
     "data": {
      "text/plain": [
       "{'english', 'tamil'}"
      ]
     },
     "execution_count": 13,
     "metadata": {},
     "output_type": "execute_result"
    }
   ],
   "source": [
    "set_var1.intersection(set_var2) #intersection in set"
   ]
  },
  {
   "cell_type": "code",
   "execution_count": 14,
   "id": "f4f27e20",
   "metadata": {},
   "outputs": [
    {
     "data": {
      "text/plain": [
       "{'english', 'hindi', 'kannada', 'tamil'}"
      ]
     },
     "execution_count": 14,
     "metadata": {},
     "output_type": "execute_result"
    }
   ],
   "source": [
    "set_var1.union(set_var2) #union of sets"
   ]
  },
  {
   "cell_type": "code",
   "execution_count": 16,
   "id": "984ede4c",
   "metadata": {},
   "outputs": [
    {
     "ename": "TypeError",
     "evalue": "'set' object is not callable",
     "output_type": "error",
     "traceback": [
      "\u001b[1;31m---------------------------------------------------------------------------\u001b[0m",
      "\u001b[1;31mTypeError\u001b[0m                                 Traceback (most recent call last)",
      "Cell \u001b[1;32mIn[16], line 2\u001b[0m\n\u001b[0;32m      1\u001b[0m \u001b[38;5;66;03m#indexing in sets\u001b[39;00m\n\u001b[1;32m----> 2\u001b[0m set_var1(\u001b[38;5;241m0\u001b[39m)\n",
      "\u001b[1;31mTypeError\u001b[0m: 'set' object is not callable"
     ]
    }
   ],
   "source": [
    "#indexing in sets\n",
    "set_var1(0)"
   ]
  },
  {
   "cell_type": "markdown",
   "id": "05ffe62a",
   "metadata": {},
   "source": [
    "# Dictionaries \n",
    "    A dictionary is a collection in which elements are unordered , changeble and indexed. In python dictionary are written using curly braces with keys and values(seperated by colon:)"
   ]
  },
  {
   "cell_type": "code",
   "execution_count": 19,
   "id": "7f8fe847",
   "metadata": {},
   "outputs": [
    {
     "data": {
      "text/plain": [
       "dict"
      ]
     },
     "execution_count": 19,
     "metadata": {},
     "output_type": "execute_result"
    }
   ],
   "source": [
    "dict = {}\n",
    "type(dict)"
   ]
  },
  {
   "cell_type": "code",
   "execution_count": 20,
   "id": "e68e1af7",
   "metadata": {},
   "outputs": [
    {
     "data": {
      "text/plain": [
       "set"
      ]
     },
     "execution_count": 20,
     "metadata": {},
     "output_type": "execute_result"
    }
   ],
   "source": [
    "dict = {1,2,3,4}\n",
    "type(dict)   #here if we use just the curly braces it gives the datstype a set"
   ]
  },
  {
   "cell_type": "code",
   "execution_count": 21,
   "id": "9684dc93",
   "metadata": {},
   "outputs": [],
   "source": [
    "my_dict = {\"car1\":'skoda','car2':'audi','car3':'volvo'}"
   ]
  },
  {
   "cell_type": "code",
   "execution_count": 22,
   "id": "459a5d2b",
   "metadata": {},
   "outputs": [
    {
     "data": {
      "text/plain": [
       "{'car1': 'skoda', 'car2': 'audi', 'car3': 'volvo'}"
      ]
     },
     "execution_count": 22,
     "metadata": {},
     "output_type": "execute_result"
    }
   ],
   "source": [
    "my_dict"
   ]
  },
  {
   "cell_type": "code",
   "execution_count": 24,
   "id": "69caec2e",
   "metadata": {},
   "outputs": [
    {
     "name": "stdout",
     "output_type": "stream",
     "text": [
      "car1\n",
      "car2\n",
      "car3\n"
     ]
    }
   ],
   "source": [
    "#retrieving the keys using for loop\n",
    "for x in my_dict:\n",
    "    print(x)"
   ]
  },
  {
   "cell_type": "code",
   "execution_count": 25,
   "id": "be885ba4",
   "metadata": {},
   "outputs": [
    {
     "name": "stdout",
     "output_type": "stream",
     "text": [
      "skoda\n",
      "audi\n",
      "volvo\n"
     ]
    }
   ],
   "source": [
    "#retieving the values of the key using for loop by values function\n",
    "for x in my_dict.values():   #here values()-->is an inbuilt function to retrieve the values associated with key\n",
    "    print(x)"
   ]
  },
  {
   "cell_type": "code",
   "execution_count": 26,
   "id": "fcd80425",
   "metadata": {},
   "outputs": [
    {
     "name": "stdout",
     "output_type": "stream",
     "text": [
      "('car1', 'skoda')\n",
      "('car2', 'audi')\n",
      "('car3', 'volvo')\n"
     ]
    }
   ],
   "source": [
    "#retrieving the entire dictinary using for loop by item function\n",
    "for x in my_dict.items():\n",
    "    print(x)"
   ]
  },
  {
   "cell_type": "markdown",
   "id": "eca2b6a7",
   "metadata": {},
   "source": [
    "# note that whenever you take a data structure find whether indexing can be done with it or not"
   ]
  },
  {
   "cell_type": "code",
   "execution_count": 27,
   "id": "a32cd857",
   "metadata": {},
   "outputs": [],
   "source": [
    "#appending a new key and values to the dictionary\n",
    "my_dict['car4'] = 'BMW'"
   ]
  },
  {
   "cell_type": "code",
   "execution_count": 28,
   "id": "3ad0922f",
   "metadata": {},
   "outputs": [
    {
     "data": {
      "text/plain": [
       "{'car1': 'skoda', 'car2': 'audi', 'car3': 'volvo', 'car4': 'BMW'}"
      ]
     },
     "execution_count": 28,
     "metadata": {},
     "output_type": "execute_result"
    }
   ],
   "source": [
    "my_dict #here the car4 is appended to the dictionary"
   ]
  },
  {
   "cell_type": "code",
   "execution_count": 30,
   "id": "2d584325",
   "metadata": {},
   "outputs": [
    {
     "name": "stdout",
     "output_type": "stream",
     "text": [
      "{'car1': 'Benz', 'car2': 'audi', 'car3': 'volvo', 'car4': 'BMW'}\n"
     ]
    }
   ],
   "source": [
    "#when we try to give the existing key a different value than that key value is overidded by the new value given\n",
    "my_dict['car1'] = 'Benz'\n",
    "print(my_dict) #below the value(skoda) of key car1 is replaced by benz"
   ]
  },
  {
   "cell_type": "markdown",
   "id": "d6f8c7d9",
   "metadata": {},
   "source": [
    "# Nested Dictionary"
   ]
  },
  {
   "cell_type": "code",
   "execution_count": 32,
   "id": "24acb1c3",
   "metadata": {},
   "outputs": [],
   "source": [
    "#dictionary inside a dictionary is called as nested dictinary\n",
    "car_model1 = {'skoda':'1989'}\n",
    "car_model2 = {'audi':'1990'}\n",
    "car_model3 = {'benz':'1880'}\n",
    "cars = {'car1':car_model1, 'car2':car_model2,'car3':car_model3}\n"
   ]
  },
  {
   "cell_type": "code",
   "execution_count": 33,
   "id": "1419b35f",
   "metadata": {},
   "outputs": [
    {
     "name": "stdout",
     "output_type": "stream",
     "text": [
      "{'car1': {'skoda': '1989'}, 'car2': {'audi': '1990'}, 'car3': {'benz': '1880'}}\n"
     ]
    }
   ],
   "source": [
    "print(cars)  #here the each key as a model details ie nested dictionary"
   ]
  },
  {
   "cell_type": "code",
   "execution_count": 36,
   "id": "f524ff28",
   "metadata": {},
   "outputs": [
    {
     "data": {
      "text/plain": [
       "{'skoda': '1989'}"
      ]
     },
     "execution_count": 36,
     "metadata": {},
     "output_type": "execute_result"
    }
   ],
   "source": [
    "#to access the nested dictinary using indexing\n",
    "cars['car1']"
   ]
  },
  {
   "cell_type": "code",
   "execution_count": 37,
   "id": "cb616b70",
   "metadata": {},
   "outputs": [
    {
     "data": {
      "text/plain": [
       "'1989'"
      ]
     },
     "execution_count": 37,
     "metadata": {},
     "output_type": "execute_result"
    }
   ],
   "source": [
    "#to acces the nested dictinary value we use\n",
    "cars['car1']['skoda'] "
   ]
  },
  {
   "cell_type": "markdown",
   "id": "295f0aa6",
   "metadata": {},
   "source": [
    "# Tuples\n",
    "    Tuples are the datastructure in which the elemnts are imutable ie we cannot change the elements once we define it\n",
    "    * bt the whole tuple can be changed"
   ]
  },
  {
   "cell_type": "code",
   "execution_count": 39,
   "id": "eef2a408",
   "metadata": {},
   "outputs": [
    {
     "data": {
      "text/plain": [
       "tuple"
      ]
     },
     "execution_count": 39,
     "metadata": {},
     "output_type": "execute_result"
    }
   ],
   "source": [
    "#we define the tuple by using parentesis\n",
    "tup = tuple()\n",
    "type(tup)"
   ]
  },
  {
   "cell_type": "code",
   "execution_count": 43,
   "id": "d52ef7cc",
   "metadata": {},
   "outputs": [
    {
     "data": {
      "text/plain": [
       "('Anandi', 'Deepu', 'Dhanush')"
      ]
     },
     "execution_count": 43,
     "metadata": {},
     "output_type": "execute_result"
    }
   ],
   "source": [
    "Names = ('Anandi','Deepu','Dhanush')\n",
    "Names"
   ]
  },
  {
   "cell_type": "code",
   "execution_count": 41,
   "id": "7df4da76",
   "metadata": {},
   "outputs": [
    {
     "data": {
      "text/plain": [
       "'Anandi'"
      ]
     },
     "execution_count": 41,
     "metadata": {},
     "output_type": "execute_result"
    }
   ],
   "source": [
    "#indexing in tuples\n",
    "Names[0]"
   ]
  },
  {
   "cell_type": "code",
   "execution_count": 42,
   "id": "a8f2f1ee",
   "metadata": {},
   "outputs": [
    {
     "ename": "TypeError",
     "evalue": "'tuple' object does not support item assignment",
     "output_type": "error",
     "traceback": [
      "\u001b[1;31m---------------------------------------------------------------------------\u001b[0m",
      "\u001b[1;31mTypeError\u001b[0m                                 Traceback (most recent call last)",
      "Cell \u001b[1;32mIn[42], line 2\u001b[0m\n\u001b[0;32m      1\u001b[0m \u001b[38;5;66;03m#when we try to change the elemnts in the tuple then\u001b[39;00m\n\u001b[1;32m----> 2\u001b[0m Names[\u001b[38;5;241m0\u001b[39m] \u001b[38;5;241m=\u001b[39m \u001b[38;5;124m'\u001b[39m\u001b[38;5;124manandi\u001b[39m\u001b[38;5;124m'\u001b[39m\n",
      "\u001b[1;31mTypeError\u001b[0m: 'tuple' object does not support item assignment"
     ]
    }
   ],
   "source": [
    "#when we try to change the elemnts in the tuple then\n",
    "Names[0] = 'anandi'\n",
    "#it throws an error"
   ]
  },
  {
   "cell_type": "markdown",
   "id": "04313ae1",
   "metadata": {},
   "source": [
    "# Tuples are basically used in the application or program where the definition of program is required only once and to cahnge the whole tuple(we can't perform any opeartions on it)"
   ]
  },
  {
   "cell_type": "code",
   "execution_count": 45,
   "id": "22b43402",
   "metadata": {},
   "outputs": [
    {
     "data": {
      "text/plain": [
       "1"
      ]
     },
     "execution_count": 45,
     "metadata": {},
     "output_type": "execute_result"
    }
   ],
   "source": [
    "#it has 2 inbuilt functions\n",
    "#1) Count()\n",
    "Names.count('Deepu')"
   ]
  },
  {
   "cell_type": "code",
   "execution_count": 46,
   "id": "70e2bb24",
   "metadata": {},
   "outputs": [
    {
     "data": {
      "text/plain": [
       "0"
      ]
     },
     "execution_count": 46,
     "metadata": {},
     "output_type": "execute_result"
    }
   ],
   "source": [
    "#2) index()\n",
    "Names.index('Anandi')"
   ]
  }
 ],
 "metadata": {
  "kernelspec": {
   "display_name": "Python 3 (ipykernel)",
   "language": "python",
   "name": "python3"
  },
  "language_info": {
   "codemirror_mode": {
    "name": "ipython",
    "version": 3
   },
   "file_extension": ".py",
   "mimetype": "text/x-python",
   "name": "python",
   "nbconvert_exporter": "python",
   "pygments_lexer": "ipython3",
   "version": "3.11.5"
  }
 },
 "nbformat": 4,
 "nbformat_minor": 5
}
